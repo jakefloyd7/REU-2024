{
 "cells": [
  {
   "cell_type": "code",
   "execution_count": 109,
   "id": "43a97b8a-43e8-4d9d-a63d-635c006e5fae",
   "metadata": {},
   "outputs": [],
   "source": [
    "import numpy as np\n",
    "import math\n",
    "import matplotlib.pyplot as plt"
   ]
  },
  {
   "cell_type": "code",
   "execution_count": 140,
   "id": "be13edc5-7b2e-4028-878a-c051bdcd77ed",
   "metadata": {},
   "outputs": [],
   "source": [
    "t = np.array([0, 180, 360, 540, 720])\n",
    "t = t/72"
   ]
  },
  {
   "cell_type": "code",
   "execution_count": 141,
   "id": "9eb7e6f6-b849-40f9-ba94-49149e3e9dfa",
   "metadata": {},
   "outputs": [],
   "source": [
    "n = np.array([0.8, 0.81, 0.82, 0.41, 0.22])"
   ]
  },
  {
   "cell_type": "code",
   "execution_count": 128,
   "id": "bdb90fa1-72b7-4f20-9b51-f286a1c7f430",
   "metadata": {},
   "outputs": [],
   "source": [
    "def graph_data(x,y,x_2,y_2):\n",
    "    plt.figure()\n",
    "    plt.scatter(x,y, color='red')\n",
    "    plt.plot(x_2,y_2, color='blue')\n",
    "    plt.xlabel('Number of Days')\n",
    "    plt.ylabel('Number of Cells')\n",
    "    plt.title(\"Vector Cells - Regular Cancer Cells\")\n",
    "    return plt.show()"
   ]
  },
  {
   "cell_type": "code",
   "execution_count": 107,
   "id": "7025c576-ec11-49d1-90d4-030dfde3e11f",
   "metadata": {},
   "outputs": [],
   "source": [
    "def main():\n",
    "    #below are the collected data points from the lab\n",
    "    #data_1 = [(0,150000),\n",
    "    #        (1,60500),\n",
    "     #       (2,98000),\n",
    "      #      (3,185500),\n",
    "       #     (4,222000),\n",
    "        #    (5,234500),\n",
    "         #   (6,425500),\n",
    "         #   (7,652500),\n",
    "         #   (8,1068500),\n",
    "         #   (9,1517500),\n",
    "         #   (12,2938000),\n",
    "         #   (13,2987500),\n",
    "         #   (14,2960500)]\n",
    "\n",
    "    #store x values (time) of the data into array t\n",
    "    #t = np.array([data[0] for data in data_1])\n",
    "    #store y values (number of cells) of the data into array n\n",
    "    #n = np.array([data[1] for data in data_1])\n",
    "    \n",
    "    #normalization of the data\n",
    "    min_n = float(min(n))\n",
    "    max_n = float(max(n))\n",
    "    norm_n =[] #this is the new list where the normalized data goes\n",
    "    for i in range(len(n)):\n",
    "        value = float((n[i] - min_n) / (max_n - min_n))\n",
    "        norm_n.append(value)\n",
    "    \n",
    "    #user makes the initial guesses for the parameters and step size\n",
    "    a = float(input(\"Initial value for a: \"))\n",
    "    initial_a = a\n",
    "    b = float(input(\"Initial value for b: \"))\n",
    "    initial_b = b\n",
    "    c = float(input(\"Initial value for c: \"))\n",
    "    initial_c = c\n",
    "    step_size = float(input(\"Determine the step size: \"))\n",
    "    #initialize variables\n",
    "    prev_a = a\n",
    "    prev_b = b\n",
    "    prev_c = c\n",
    "    iteration = 0\n",
    "\n",
    "    #calculate and solve the parameters using the gradient descent method\n",
    "    while True:\n",
    "        iteration += 1\n",
    "        partial_a = 0\n",
    "        partial_b = 0\n",
    "        partial_c = 0\n",
    "        for i in range(len(t)):\n",
    "            partial_a += (a * np.exp(-2*b * np.exp(-c * t[i])) - (norm_n[i] * np.exp(-b * np.exp(-c * t[i]))))\n",
    "        for i in range(len(t)):\n",
    "            partial_b += (-(a**2) * np.exp(-c*t[i]-2*b*np.exp(-c*t[i])) + (norm_n[i] * a * np.exp(-c*t[i]-b*np.exp(-c*t[i]))))\n",
    "        for i in range(len(t)):\n",
    "            partial_c += (a**2 *b*t[i]*np.exp(-c*t[i]-2*b*np.exp(-c*t[i])) - (norm_n[i]*a*b*t[i]*np.exp(-c*t[i]-b*np.exp(-c*t[i]))))\n",
    "        a = prev_a  - (step_size * partial_a) #next iteration of a gets updated i.e. a^(k+1)\n",
    "        b = prev_b  - (step_size * partial_b)\n",
    "        c = prev_c  - (step_size * partial_c)\n",
    "        #print(f\"iteration: {iteration}\")\n",
    "        #print(f\"partial a: {partial_a}, partial b:{partial_b}, partial c: {partial_c}\")\n",
    "        #print(f\"Iteration: {iteration}\")#checks for infinite loop\n",
    "        if abs(partial_a)<0.0001 and abs(partial_b)<0.0001 and abs(partial_c)<0.0001: #termination condition for the gradient descent algorithm\n",
    "            print (f\"After {iteration}th interations: \")\n",
    "            print (f\"Parameter a is: {a} and partial A is {partial_a}\")\n",
    "            print (f\"Parameter b is: {b} and partial B is {partial_b}\")\n",
    "            print (f\"Parameter c is: {c} and partial C is {partial_c}\")\n",
    "            #Use the parameters found here for the function f(t). Get and store the output values for the graph\n",
    "            x = np.linspace(0,750,100)\n",
    "            f_t = []\n",
    "            for i in range(len(x)):\n",
    "                function_t = a * np.exp(-b * np.exp(-c * x[i]))\n",
    "                f_t.append(function_t)\n",
    "            graph_data(t,norm_n,x,f_t)#calls the graphing function and graphs\n",
    "            break\n",
    "        elif iteration>500000:\n",
    "            print(\"Too many iterations\")\n",
    "            print(initial_a, initial_b, initial_c, step_size)\n",
    "            print(a,b,c)\n",
    "            print(f\"partial a: {partial_a}, partial b:{partial_b}, partial c: {partial_c}\")\n",
    "            break\n",
    "        prev_a = a\n",
    "        prev_b = b\n",
    "        prev_c = c"
   ]
  },
  {
   "cell_type": "code",
   "execution_count": 108,
   "id": "32ca1c52-9ddf-4e6d-9a89-4f420ce8a19c",
   "metadata": {},
   "outputs": [
    {
     "name": "stdin",
     "output_type": "stream",
     "text": [
      "Initial value for a:  1\n",
      "Initial value for b:  1\n",
      "Initial value for c:  1\n",
      "Determine the step size:  .03\n"
     ]
    },
    {
     "name": "stdout",
     "output_type": "stream",
     "text": [
      "After 673th interations: \n",
      "Parameter a is: 0.5750491003881176 and partial A is 2.5726475454734832e-05\n",
      "Parameter b is: -0.5192930045981367 and partial B is 9.992196199293257e-05\n",
      "Parameter c is: 1.0 and partial C is 1.4734758654271786e-77\n"
     ]
    },
    {
     "data": {
      "image/png": "[encoded data removed]",
      "text/plain": [
       "<Figure size 640x480 with 1 Axes>"
      ]
     },
     "metadata": {},
     "output_type": "display_data"
    }
   ],
   "source": [
    "main()"
   ]
  },
  {
   "cell_type": "code",
   "execution_count": 151,
   "id": "5b7767f1-34d4-406d-b6e2-b62c1ba1e183",
   "metadata": {},
   "outputs": [],
   "source": [
    "def main2():\n",
    "    #below are the collected data points from the lab\n",
    "   # data_1 = [(0,150000),\n",
    "     #       (1,60500),\n",
    "     #       (2,98000),\n",
    "     #       (3,185500),\n",
    "     #       (4,222000),\n",
    "     #       (5,234500),\n",
    "     #       (6,425500),\n",
    "     #       (7,652500),\n",
    "     #       (8,1068500),\n",
    "     #       (9,1517500),\n",
    "     #       (12,2938000),\n",
    "     #       (13,2987500),\n",
    "     #       (14,2960500)]\n",
    "\n",
    "    #store x values (time) of the data into array t\n",
    "    #t = np.array([data[0] for data in data_1])\n",
    "    #store y values (number of cells) of the data into array n\n",
    "    #n = np.array([data[1] for data in data_1])\n",
    "    \n",
    "    #normalization of the data\n",
    "    min_n = float(min(n))\n",
    "    max_n = float(max(n))\n",
    "    norm_n =[] #this is the new list where the normalized data goes\n",
    "    for i in range(len(n)):\n",
    "        value = float((n[i] - min_n) / (max_n - min_n))\n",
    "        norm_n.append(value)\n",
    "    \n",
    "    #user makes the initial guesses for the parameters and step size\n",
    "    a = float(input(\"Initial value for a: \"))\n",
    "    initial_a = a\n",
    "    b = float(input(\"Initial value for b: \"))\n",
    "    initial_b = b\n",
    "    c = float(input(\"Initial value for c: \"))\n",
    "    initial_c = c\n",
    "    d = float(input(\"Initial value for d:\"))\n",
    "    initial_d = d\n",
    "    step_size = float(input(\"Determine the step size: \"))\n",
    "    #initialize variables\n",
    "    prev_a = a\n",
    "    prev_b = b\n",
    "    prev_c = c\n",
    "    prev_d = d\n",
    "    iteration = 0\n",
    "\n",
    "    #calculate and solve the parameters using the gradient descent method\n",
    "    while True:\n",
    "        iteration += 1\n",
    "        partial_a = 0\n",
    "        partial_b = 0\n",
    "        partial_c = 0\n",
    "        partial_d = 0\n",
    "        for i in range(len(t)):\n",
    "            partial_a += 2*(a * np.exp(-2*b * np.exp(-c * t[i])) - (norm_n[i] * np.exp(-b * np.exp(-c * t[i]))) + (d * np.exp(-b * np.exp(-c * t[i]))))\n",
    "        for i in range(len(t)):\n",
    "            partial_b += 2*(-(a**2) * np.exp(-c*t[i]-2*b*np.exp(-c*t[i])) + (norm_n[i] * a * np.exp(-c*t[i] - b*np.exp(-c*t[i]))) - (a*d* np.exp(-c*t[i] - b*np.exp(-c*t[i]))))\n",
    "        for i in range(len(t)):\n",
    "            partial_c += 2*((a**2) *b*t[i]*np.exp(-c*t[i]-2*b*np.exp(-c*t[i])) - (norm_n[i]*a*b*t[i]*np.exp(-c*t[i] - b*np.exp(-c*t[i]))) + (t[i]*a*b*d* np.exp(-c*t[i] - b * np.exp(-c*t[i]))))\n",
    "        for i in range(len(t)):\n",
    "            partial_d += 2*(a*np.exp(-b*np.exp(-c*t[i])) + d - norm_n[i])\n",
    "        a = prev_a  - (step_size * partial_a) #next iteration of a gets updated i.e. a^(k+1)\n",
    "        b = prev_b  - (step_size * partial_b)\n",
    "        c = prev_c  - (step_size * partial_c)\n",
    "        d = prev_d  - (step_size * partial_d)\n",
    "        #print(f\"iteration: {iteration}\")\n",
    "        #print(f\"partial a: {partial_a}, partial b:{partial_b}, partial c: {partial_c}\")\n",
    "        #print(f\"Iteration: {iteration}\")#checks for infinite loop\n",
    "        if abs(partial_a)<0.0001 and abs(partial_b)<0.0001 and abs(partial_c)<0.0001 and abs(partial_d)<0.0001: #termination condition for the gradient descent algorithm\n",
    "            print (f\"After {iteration}th iteration: \")\n",
    "            print (f\"Parameter a is: {a} and partial A is {partial_a}\")\n",
    "            print (f\"Parameter b is: {b} and partial B is {partial_b}\")\n",
    "            print (f\"Parameter c is: {c} and partial C is {partial_c}\")\n",
    "            print (f\"Parameter d is: {d} and partial D is {partial_d}\")\n",
    "            #Use the parameters found here for the function f(t). Get and store the output values for the graph\n",
    "            x = np.linspace(0,14,100)\n",
    "            f_t = []\n",
    "            for i in range(len(x)):\n",
    "                function_t = (a * np.exp(-b * np.exp(-c * x[i]))) + d\n",
    "                f_t.append(function_t)\n",
    "            graph_data(t,norm_n,x,f_t)#calls the graphing function and graphs\n",
    "            break\n",
    "        elif iteration>2000000:\n",
    "            print(\"Too many iterations\")\n",
    "            print(initial_a, initial_b, initial_c, initial_d, step_size)\n",
    "            print(a,b,c,d)\n",
    "            print(f\"partial a: {partial_a}, partial b:{partial_b}, partial c: {partial_c}, partial d: {partial_d}\")\n",
    "            break\n",
    "        prev_a = a\n",
    "        prev_b = b\n",
    "        prev_c = c\n",
    "        prev_d = d"
   ]
  },
  {
   "cell_type": "code",
   "execution_count": 166,
   "id": "c19541a3-4123-4b58-a37c-e6011a6ebee4",
   "metadata": {},
   "outputs": [
    {
     "name": "stdin",
     "output_type": "stream",
     "text": [
      "Initial value for a:  1\n",
      "Initial value for b:  75\n",
      "Initial value for c:  1\n",
      "Initial value for d: 1\n",
      "Determine the step size:  .03\n"
     ]
    },
    {
     "name": "stdout",
     "output_type": "stream",
     "text": [
      "After 348th iteration: \n",
      "Parameter a is: -1.128478231897143 and partial A is 9.905222761062704e-05\n",
      "Parameter b is: 75.00220347597862 and partial B is -9.939146536221583e-05\n",
      "Parameter c is: 0.6566774516406577 and partial C is 2.0845806932762168e-05\n",
      "Parameter d is: 1.0008966525319272 and partial D is -1.1738358695057016e-05\n"
     ]
    },
    {
     "data": {
      "image/png": "[encoded data removed]",
      "text/plain": [
       "<Figure size 640x480 with 1 Axes>"
      ]
     },
     "metadata": {},
     "output_type": "display_data"
    }
   ],
   "source": [
    "main2()"
   ]
  },
  {
   "cell_type": "code",
   "execution_count": null,
   "id": "2e28946a-6a93-46a4-b1e9-82b3fe9c83b0",
   "metadata": {},
   "outputs": [],
   "source": []
  }
 ],
 "metadata": {
  "kernelspec": {
   "display_name": "Python 3 (ipykernel)",
   "language": "python",
   "name": "python3"
  },
  "language_info": {
   "codemirror_mode": {
    "name": "ipython",
    "version": 3
   },
   "file_extension": ".py",
   "mimetype": "text/x-python",
   "name": "python",
   "nbconvert_exporter": "python",
   "pygments_lexer": "ipython3",
   "version": "3.11.7"
  }
 },
 "nbformat": 4,
 "nbformat_minor": 5
}
